{
 "cells": [
  {
   "cell_type": "code",
   "execution_count": 75,
   "id": "37a7d64b-4a85-48ed-8490-63b6f5812cd9",
   "metadata": {},
   "outputs": [],
   "source": [
    "import pandas as pd\n",
    "import numpy as np"
   ]
  },
  {
   "cell_type": "code",
   "execution_count": 78,
   "id": "6b3f4bb3-f93c-4a63-b1db-7c26ae104007",
   "metadata": {},
   "outputs": [],
   "source": [
    "df1 = pd.read_csv(\"Health_Sleep_Statistics.csv\")"
   ]
  },
  {
   "cell_type": "code",
   "execution_count": 74,
   "id": "584e885b-d0f1-4d9b-8980-6dea4800cfd9",
   "metadata": {},
   "outputs": [
    {
     "name": "stdout",
     "output_type": "stream",
     "text": [
      "    User ID  Age Gender  Sleep Quality Bedtime Wake-up Time  Daily Steps  \\\n",
      "0         1   25      f              8   23:00        06:30         8000   \n",
      "1         2   34      m              7   00:30        07:00         5000   \n",
      "2         3   29      f              9   22:45        06:45         9000   \n",
      "3         4   41      m              5   01:00        06:30         4000   \n",
      "4         5   22      f              8   23:30        07:00        10000   \n",
      "..      ...  ...    ...            ...     ...          ...          ...   \n",
      "95       96   43      m              7   00:45        07:15         6500   \n",
      "96       97   33      f              8   23:15        06:15         8500   \n",
      "97       98   46      m              4   01:30        07:00         3000   \n",
      "98       99   25      f              9   22:15        06:45         9500   \n",
      "99      100   41      m              6   00:30        07:00         5000   \n",
      "\n",
      "    Calories Burned Physical Activity Level Dietary Habits Sleep Disorders  \\\n",
      "0              2500                  medium        healthy              no   \n",
      "1              2200                     low      unhealthy             yes   \n",
      "2              2700                    high        healthy              no   \n",
      "3              2100                     low      unhealthy             yes   \n",
      "4              2800                    high         medium              no   \n",
      "..              ...                     ...            ...             ...   \n",
      "95             2400                  medium         medium              no   \n",
      "96             2600                    high         medium              no   \n",
      "97             2000                     low      unhealthy             yes   \n",
      "98             2700                    high        healthy              no   \n",
      "99             2200                  medium      unhealthy              no   \n",
      "\n",
      "   Medication Usage  \n",
      "0                no  \n",
      "1               yes  \n",
      "2                no  \n",
      "3                no  \n",
      "4                no  \n",
      "..              ...  \n",
      "95               no  \n",
      "96               no  \n",
      "97              yes  \n",
      "98               no  \n",
      "99               no  \n",
      "\n",
      "[100 rows x 12 columns]\n"
     ]
    }
   ],
   "source": [
    "print(df1)"
   ]
  },
  {
   "cell_type": "code",
   "execution_count": 19,
   "id": "642b2af5-9bb0-4656-9205-c304f5499a85",
   "metadata": {},
   "outputs": [
    {
     "data": {
      "text/plain": [
       "User ID                    0\n",
       "Age                        0\n",
       "Gender                     0\n",
       "Sleep Quality              0\n",
       "Bedtime                    0\n",
       "Wake-up Time               0\n",
       "Daily Steps                0\n",
       "Calories Burned            0\n",
       "Physical Activity Level    0\n",
       "Dietary Habits             0\n",
       "Sleep Disorders            0\n",
       "Medication Usage           0\n",
       "dtype: int64"
      ]
     },
     "execution_count": 19,
     "metadata": {},
     "output_type": "execute_result"
    }
   ],
   "source": [
    "df1.isnull().sum()"
   ]
  },
  {
   "cell_type": "markdown",
   "id": "c0b27274-e027-4b95-9b05-13bd4c4dbd5e",
   "metadata": {},
   "source": [
    "No missing values found in the data. "
   ]
  },
  {
   "cell_type": "code",
   "execution_count": 24,
   "id": "9d166749-95bf-4733-8d0a-7b38daee173c",
   "metadata": {},
   "outputs": [],
   "source": [
    "data_cleaned = df1.drop_duplicates()"
   ]
  },
  {
   "cell_type": "code",
   "execution_count": 27,
   "id": "6ff8814b-0883-48ff-92b3-eb44bc1a17fd",
   "metadata": {},
   "outputs": [
    {
     "name": "stdout",
     "output_type": "stream",
     "text": [
      "    User ID  Age Gender  Sleep Quality Bedtime Wake-up Time  Daily Steps  \\\n",
      "0         1   25      f              8   23:00        06:30         8000   \n",
      "1         2   34      m              7   00:30        07:00         5000   \n",
      "2         3   29      f              9   22:45        06:45         9000   \n",
      "3         4   41      m              5   01:00        06:30         4000   \n",
      "4         5   22      f              8   23:30        07:00        10000   \n",
      "..      ...  ...    ...            ...     ...          ...          ...   \n",
      "95       96   43      m              7   00:45        07:15         6500   \n",
      "96       97   33      f              8   23:15        06:15         8500   \n",
      "97       98   46      m              4   01:30        07:00         3000   \n",
      "98       99   25      f              9   22:15        06:45         9500   \n",
      "99      100   41      m              6   00:30        07:00         5000   \n",
      "\n",
      "    Calories Burned Physical Activity Level Dietary Habits Sleep Disorders  \\\n",
      "0              2500                  medium        healthy              no   \n",
      "1              2200                     low      unhealthy             yes   \n",
      "2              2700                    high        healthy              no   \n",
      "3              2100                     low      unhealthy             yes   \n",
      "4              2800                    high         medium              no   \n",
      "..              ...                     ...            ...             ...   \n",
      "95             2400                  medium         medium              no   \n",
      "96             2600                    high         medium              no   \n",
      "97             2000                     low      unhealthy             yes   \n",
      "98             2700                    high        healthy              no   \n",
      "99             2200                  medium      unhealthy              no   \n",
      "\n",
      "   Medication Usage  \n",
      "0                no  \n",
      "1               yes  \n",
      "2                no  \n",
      "3                no  \n",
      "4                no  \n",
      "..              ...  \n",
      "95               no  \n",
      "96               no  \n",
      "97              yes  \n",
      "98               no  \n",
      "99               no  \n",
      "\n",
      "[100 rows x 12 columns]\n"
     ]
    }
   ],
   "source": [
    "print(data_cleaned)"
   ]
  },
  {
   "cell_type": "code",
   "execution_count": 29,
   "id": "78353cc5-4fc9-4485-9ff7-2ce9b53ebc06",
   "metadata": {},
   "outputs": [
    {
     "data": {
      "text/html": [
       "<div>\n",
       "<style scoped>\n",
       "    .dataframe tbody tr th:only-of-type {\n",
       "        vertical-align: middle;\n",
       "    }\n",
       "\n",
       "    .dataframe tbody tr th {\n",
       "        vertical-align: top;\n",
       "    }\n",
       "\n",
       "    .dataframe thead th {\n",
       "        text-align: right;\n",
       "    }\n",
       "</style>\n",
       "<table border=\"1\" class=\"dataframe\">\n",
       "  <thead>\n",
       "    <tr style=\"text-align: right;\">\n",
       "      <th></th>\n",
       "      <th>index</th>\n",
       "      <th>User ID</th>\n",
       "      <th>Age</th>\n",
       "      <th>Gender</th>\n",
       "      <th>Sleep Quality</th>\n",
       "      <th>Bedtime</th>\n",
       "      <th>Wake-up Time</th>\n",
       "      <th>Daily Steps</th>\n",
       "      <th>Calories Burned</th>\n",
       "      <th>Physical Activity Level</th>\n",
       "      <th>Dietary Habits</th>\n",
       "      <th>Sleep Disorders</th>\n",
       "      <th>Medication Usage</th>\n",
       "    </tr>\n",
       "  </thead>\n",
       "  <tbody>\n",
       "    <tr>\n",
       "      <th>0</th>\n",
       "      <td>0</td>\n",
       "      <td>1</td>\n",
       "      <td>25</td>\n",
       "      <td>f</td>\n",
       "      <td>8</td>\n",
       "      <td>23:00</td>\n",
       "      <td>06:30</td>\n",
       "      <td>8000</td>\n",
       "      <td>2500</td>\n",
       "      <td>medium</td>\n",
       "      <td>healthy</td>\n",
       "      <td>no</td>\n",
       "      <td>no</td>\n",
       "    </tr>\n",
       "    <tr>\n",
       "      <th>1</th>\n",
       "      <td>1</td>\n",
       "      <td>2</td>\n",
       "      <td>34</td>\n",
       "      <td>m</td>\n",
       "      <td>7</td>\n",
       "      <td>00:30</td>\n",
       "      <td>07:00</td>\n",
       "      <td>5000</td>\n",
       "      <td>2200</td>\n",
       "      <td>low</td>\n",
       "      <td>unhealthy</td>\n",
       "      <td>yes</td>\n",
       "      <td>yes</td>\n",
       "    </tr>\n",
       "    <tr>\n",
       "      <th>2</th>\n",
       "      <td>2</td>\n",
       "      <td>3</td>\n",
       "      <td>29</td>\n",
       "      <td>f</td>\n",
       "      <td>9</td>\n",
       "      <td>22:45</td>\n",
       "      <td>06:45</td>\n",
       "      <td>9000</td>\n",
       "      <td>2700</td>\n",
       "      <td>high</td>\n",
       "      <td>healthy</td>\n",
       "      <td>no</td>\n",
       "      <td>no</td>\n",
       "    </tr>\n",
       "    <tr>\n",
       "      <th>3</th>\n",
       "      <td>3</td>\n",
       "      <td>4</td>\n",
       "      <td>41</td>\n",
       "      <td>m</td>\n",
       "      <td>5</td>\n",
       "      <td>01:00</td>\n",
       "      <td>06:30</td>\n",
       "      <td>4000</td>\n",
       "      <td>2100</td>\n",
       "      <td>low</td>\n",
       "      <td>unhealthy</td>\n",
       "      <td>yes</td>\n",
       "      <td>no</td>\n",
       "    </tr>\n",
       "    <tr>\n",
       "      <th>4</th>\n",
       "      <td>4</td>\n",
       "      <td>5</td>\n",
       "      <td>22</td>\n",
       "      <td>f</td>\n",
       "      <td>8</td>\n",
       "      <td>23:30</td>\n",
       "      <td>07:00</td>\n",
       "      <td>10000</td>\n",
       "      <td>2800</td>\n",
       "      <td>high</td>\n",
       "      <td>medium</td>\n",
       "      <td>no</td>\n",
       "      <td>no</td>\n",
       "    </tr>\n",
       "    <tr>\n",
       "      <th>...</th>\n",
       "      <td>...</td>\n",
       "      <td>...</td>\n",
       "      <td>...</td>\n",
       "      <td>...</td>\n",
       "      <td>...</td>\n",
       "      <td>...</td>\n",
       "      <td>...</td>\n",
       "      <td>...</td>\n",
       "      <td>...</td>\n",
       "      <td>...</td>\n",
       "      <td>...</td>\n",
       "      <td>...</td>\n",
       "      <td>...</td>\n",
       "    </tr>\n",
       "    <tr>\n",
       "      <th>95</th>\n",
       "      <td>95</td>\n",
       "      <td>96</td>\n",
       "      <td>43</td>\n",
       "      <td>m</td>\n",
       "      <td>7</td>\n",
       "      <td>00:45</td>\n",
       "      <td>07:15</td>\n",
       "      <td>6500</td>\n",
       "      <td>2400</td>\n",
       "      <td>medium</td>\n",
       "      <td>medium</td>\n",
       "      <td>no</td>\n",
       "      <td>no</td>\n",
       "    </tr>\n",
       "    <tr>\n",
       "      <th>96</th>\n",
       "      <td>96</td>\n",
       "      <td>97</td>\n",
       "      <td>33</td>\n",
       "      <td>f</td>\n",
       "      <td>8</td>\n",
       "      <td>23:15</td>\n",
       "      <td>06:15</td>\n",
       "      <td>8500</td>\n",
       "      <td>2600</td>\n",
       "      <td>high</td>\n",
       "      <td>medium</td>\n",
       "      <td>no</td>\n",
       "      <td>no</td>\n",
       "    </tr>\n",
       "    <tr>\n",
       "      <th>97</th>\n",
       "      <td>97</td>\n",
       "      <td>98</td>\n",
       "      <td>46</td>\n",
       "      <td>m</td>\n",
       "      <td>4</td>\n",
       "      <td>01:30</td>\n",
       "      <td>07:00</td>\n",
       "      <td>3000</td>\n",
       "      <td>2000</td>\n",
       "      <td>low</td>\n",
       "      <td>unhealthy</td>\n",
       "      <td>yes</td>\n",
       "      <td>yes</td>\n",
       "    </tr>\n",
       "    <tr>\n",
       "      <th>98</th>\n",
       "      <td>98</td>\n",
       "      <td>99</td>\n",
       "      <td>25</td>\n",
       "      <td>f</td>\n",
       "      <td>9</td>\n",
       "      <td>22:15</td>\n",
       "      <td>06:45</td>\n",
       "      <td>9500</td>\n",
       "      <td>2700</td>\n",
       "      <td>high</td>\n",
       "      <td>healthy</td>\n",
       "      <td>no</td>\n",
       "      <td>no</td>\n",
       "    </tr>\n",
       "    <tr>\n",
       "      <th>99</th>\n",
       "      <td>99</td>\n",
       "      <td>100</td>\n",
       "      <td>41</td>\n",
       "      <td>m</td>\n",
       "      <td>6</td>\n",
       "      <td>00:30</td>\n",
       "      <td>07:00</td>\n",
       "      <td>5000</td>\n",
       "      <td>2200</td>\n",
       "      <td>medium</td>\n",
       "      <td>unhealthy</td>\n",
       "      <td>no</td>\n",
       "      <td>no</td>\n",
       "    </tr>\n",
       "  </tbody>\n",
       "</table>\n",
       "<p>100 rows × 13 columns</p>\n",
       "</div>"
      ],
      "text/plain": [
       "    index  User ID  Age Gender  Sleep Quality Bedtime Wake-up Time  \\\n",
       "0       0        1   25      f              8   23:00        06:30   \n",
       "1       1        2   34      m              7   00:30        07:00   \n",
       "2       2        3   29      f              9   22:45        06:45   \n",
       "3       3        4   41      m              5   01:00        06:30   \n",
       "4       4        5   22      f              8   23:30        07:00   \n",
       "..    ...      ...  ...    ...            ...     ...          ...   \n",
       "95     95       96   43      m              7   00:45        07:15   \n",
       "96     96       97   33      f              8   23:15        06:15   \n",
       "97     97       98   46      m              4   01:30        07:00   \n",
       "98     98       99   25      f              9   22:15        06:45   \n",
       "99     99      100   41      m              6   00:30        07:00   \n",
       "\n",
       "    Daily Steps  Calories Burned Physical Activity Level Dietary Habits  \\\n",
       "0          8000             2500                  medium        healthy   \n",
       "1          5000             2200                     low      unhealthy   \n",
       "2          9000             2700                    high        healthy   \n",
       "3          4000             2100                     low      unhealthy   \n",
       "4         10000             2800                    high         medium   \n",
       "..          ...              ...                     ...            ...   \n",
       "95         6500             2400                  medium         medium   \n",
       "96         8500             2600                    high         medium   \n",
       "97         3000             2000                     low      unhealthy   \n",
       "98         9500             2700                    high        healthy   \n",
       "99         5000             2200                  medium      unhealthy   \n",
       "\n",
       "   Sleep Disorders Medication Usage  \n",
       "0               no               no  \n",
       "1              yes              yes  \n",
       "2               no               no  \n",
       "3              yes               no  \n",
       "4               no               no  \n",
       "..             ...              ...  \n",
       "95              no               no  \n",
       "96              no               no  \n",
       "97             yes              yes  \n",
       "98              no               no  \n",
       "99              no               no  \n",
       "\n",
       "[100 rows x 13 columns]"
      ]
     },
     "execution_count": 29,
     "metadata": {},
     "output_type": "execute_result"
    }
   ],
   "source": [
    "data_cleaned.reset_index(drop=False, inplace=False)"
   ]
  },
  {
   "cell_type": "markdown",
   "id": "16026f93-ee86-4f5b-a76d-143dc1e691c1",
   "metadata": {},
   "source": [
    "___"
   ]
  },
  {
   "cell_type": "markdown",
   "id": "19c73bbc-4732-46b1-9a9b-62baeede1b45",
   "metadata": {},
   "source": [
    "## Rianna McDuffus Section\n",
    "## @03101455"
   ]
  },
  {
   "cell_type": "markdown",
   "id": "039b1844-a773-49eb-a186-0241aac0783a",
   "metadata": {},
   "source": [
    "### 5. Data Filtering and Selection\n",
    "1. Filter the dataset based on conditions.\n",
    "2. Use.loc[] and .iloc[] to selet specific rows and columns"
   ]
  },
  {
   "cell_type": "markdown",
   "id": "4b0dc52d-26da-434b-bf22-4efa01f0703f",
   "metadata": {},
   "source": [
    "Filtering based on **one** condition - Here we are filtering the ages of those 25 and younger. We do this since we want to focus on the information\n",
    "of younger individuals in the dataset because their sleep habits can be compared to ours as college undergraduates within the same age range.\n",
    "This information can be used to make deductions about what are common sleep and health trends are for our age, and we can make adjustments to our own habits as we see fit."
   ]
  },
  {
   "cell_type": "code",
   "execution_count": 56,
   "id": "8ae5682b-333a-400c-a221-9fcdf1163e75",
   "metadata": {},
   "outputs": [
    {
     "name": "stdout",
     "output_type": "stream",
     "text": [
      "    User ID  Age Gender  Sleep Quality Bedtime Wake-up Time  Daily Steps  \\\n",
      "4         5   22      f              8   23:30        07:00        10000   \n",
      "11       12   23      m              9   22:00        06:00        11000   \n",
      "30       31   24      f              9   22:00        06:00        10500   \n",
      "50       51   23      f              9   22:15        06:45         9500   \n",
      "66       67   24      f              9   22:15        06:45         9500   \n",
      "90       91   23      f              9   22:15        06:45         9500   \n",
      "\n",
      "    Calories Burned Physical Activity Level Dietary Habits Sleep Disorders  \\\n",
      "4              2800                    high         medium              no   \n",
      "11             2900                    high        healthy              no   \n",
      "30             2900                    high        healthy              no   \n",
      "50             2700                    high        healthy              no   \n",
      "66             2700                    high        healthy              no   \n",
      "90             2700                    high        healthy              no   \n",
      "\n",
      "   Medication Usage  \n",
      "4                no  \n",
      "11               no  \n",
      "30               no  \n",
      "50               no  \n",
      "66               no  \n",
      "90               no  \n"
     ]
    }
   ],
   "source": [
    "df1_filtered = df1[df1['Age'] < 25 ] \n",
    "print(df1_filtered)"
   ]
  },
  {
   "cell_type": "markdown",
   "id": "aec78819-fe87-4e1d-8ac3-6ef95fcd5bd8",
   "metadata": {},
   "source": [
    "Filtering based on **multiple** conditions - Here we want to want to narrow down what factors contribute to a higher sleep quality of 9 or abover for people ages 25 and younger. Based on the data shown, we can deduce that having \"healthy\" dietary habits contribute to having a better sleep quality. It can also be said that an earlier bedtime contributes to improved sleep quality."
   ]
  },
  {
   "cell_type": "code",
   "execution_count": 37,
   "id": "aa83455b-a0d8-4070-9f2b-a1a885f667bd",
   "metadata": {},
   "outputs": [
    {
     "name": "stdout",
     "output_type": "stream",
     "text": [
      "    User ID  Age Gender  Sleep Quality Bedtime Wake-up Time  Daily Steps  \\\n",
      "11       12   23      m              9   22:00        06:00        11000   \n",
      "30       31   24      f              9   22:00        06:00        10500   \n",
      "50       51   23      f              9   22:15        06:45         9500   \n",
      "66       67   24      f              9   22:15        06:45         9500   \n",
      "90       91   23      f              9   22:15        06:45         9500   \n",
      "\n",
      "    Calories Burned Physical Activity Level Dietary Habits Sleep Disorders  \\\n",
      "11             2900                    high        healthy              no   \n",
      "30             2900                    high        healthy              no   \n",
      "50             2700                    high        healthy              no   \n",
      "66             2700                    high        healthy              no   \n",
      "90             2700                    high        healthy              no   \n",
      "\n",
      "   Medication Usage  \n",
      "11               no  \n",
      "30               no  \n",
      "50               no  \n",
      "66               no  \n",
      "90               no  \n"
     ]
    }
   ],
   "source": [
    "filtered_df1 = df1[(df1['Age'] < 25) & (df1['Sleep Quality'] >= 9)]\n",
    "print(filtered_df1)"
   ]
  },
  {
   "cell_type": "markdown",
   "id": "f6c1c37b-eb3a-48f8-ba17-0c78b73f9d5d",
   "metadata": {},
   "source": [
    "Using **loc**- This prints value in row labeled 73, under \"sleep quality\" column, and can be used for a targeted analysis of the data in this specific row and column. This is the case with row 73 as the row stands out because it contains information about one of the oldest people in the dataset (age 50). According to the data, this person (age 50) has a sleep quality of 4, which is less than half the sleep quality of younger individuals."
   ]
  },
  {
   "cell_type": "code",
   "execution_count": 54,
   "id": "20466375-50d1-4655-aced-e6a8c074da38",
   "metadata": {},
   "outputs": [
    {
     "data": {
      "text/plain": [
       "4"
      ]
     },
     "execution_count": 54,
     "metadata": {},
     "output_type": "execute_result"
    }
   ],
   "source": [
    "df1.loc[73, 'Sleep Quality'] "
   ]
  },
  {
   "cell_type": "markdown",
   "id": "1569b36d-a1c1-4566-bb79-4ab99528a2fe",
   "metadata": {},
   "source": [
    "Using **iloc**- This function is very useful to check what the first row looks like, which helps to verify the structure and content of our dataset. This is especially helpful when you’ve just loaded a new dataset and want to inspect its structure. From using this function, we immediately know what charateristics were observed from each individual"
   ]
  },
  {
   "cell_type": "code",
   "execution_count": 77,
   "id": "b6106e32-7471-486d-afab-5f21b0ab0c2e",
   "metadata": {},
   "outputs": [
    {
     "data": {
      "text/plain": [
       "User ID                          1\n",
       "Age                             25\n",
       "Gender                           f\n",
       "Sleep Quality                    8\n",
       "Bedtime                      23:00\n",
       "Wake-up Time                 06:30\n",
       "Daily Steps                   8000\n",
       "Calories Burned               2500\n",
       "Physical Activity Level     medium\n",
       "Dietary Habits             healthy\n",
       "Sleep Disorders                 no\n",
       "Medication Usage                no\n",
       "Name: 0, dtype: object"
      ]
     },
     "execution_count": 77,
     "metadata": {},
     "output_type": "execute_result"
    }
   ],
   "source": [
    "df1.iloc[0]"
   ]
  },
  {
   "cell_type": "markdown",
   "id": "a8e57699-e220-428c-9167-4bf35ab1c9a9",
   "metadata": {},
   "source": [
    "Using **iloc over a range of data**- This extracts the first 5 rows of the dataset which helps us see that there is consistency because smetimes\n",
    "the first row contains metadata or information like column headers (in poorly formatted datasets). Checking the first row allows you to see if the data is properly structured, and based on the output, the data seems to be consistent and structured properly. "
   ]
  },
  {
   "cell_type": "code",
   "execution_count": 83,
   "id": "b1b3e9f4-cab7-4844-9fc8-551077b9d3f7",
   "metadata": {},
   "outputs": [
    {
     "data": {
      "text/html": [
       "<div>\n",
       "<style scoped>\n",
       "    .dataframe tbody tr th:only-of-type {\n",
       "        vertical-align: middle;\n",
       "    }\n",
       "\n",
       "    .dataframe tbody tr th {\n",
       "        vertical-align: top;\n",
       "    }\n",
       "\n",
       "    .dataframe thead th {\n",
       "        text-align: right;\n",
       "    }\n",
       "</style>\n",
       "<table border=\"1\" class=\"dataframe\">\n",
       "  <thead>\n",
       "    <tr style=\"text-align: right;\">\n",
       "      <th></th>\n",
       "      <th>User ID</th>\n",
       "      <th>Age</th>\n",
       "      <th>Gender</th>\n",
       "      <th>Sleep Quality</th>\n",
       "      <th>Bedtime</th>\n",
       "      <th>Wake-up Time</th>\n",
       "      <th>Daily Steps</th>\n",
       "      <th>Calories Burned</th>\n",
       "      <th>Physical Activity Level</th>\n",
       "      <th>Dietary Habits</th>\n",
       "      <th>Sleep Disorders</th>\n",
       "      <th>Medication Usage</th>\n",
       "    </tr>\n",
       "  </thead>\n",
       "  <tbody>\n",
       "    <tr>\n",
       "      <th>0</th>\n",
       "      <td>1</td>\n",
       "      <td>25</td>\n",
       "      <td>f</td>\n",
       "      <td>8</td>\n",
       "      <td>23:00</td>\n",
       "      <td>06:30</td>\n",
       "      <td>8000</td>\n",
       "      <td>2500</td>\n",
       "      <td>medium</td>\n",
       "      <td>healthy</td>\n",
       "      <td>no</td>\n",
       "      <td>no</td>\n",
       "    </tr>\n",
       "    <tr>\n",
       "      <th>1</th>\n",
       "      <td>2</td>\n",
       "      <td>34</td>\n",
       "      <td>m</td>\n",
       "      <td>7</td>\n",
       "      <td>00:30</td>\n",
       "      <td>07:00</td>\n",
       "      <td>5000</td>\n",
       "      <td>2200</td>\n",
       "      <td>low</td>\n",
       "      <td>unhealthy</td>\n",
       "      <td>yes</td>\n",
       "      <td>yes</td>\n",
       "    </tr>\n",
       "    <tr>\n",
       "      <th>2</th>\n",
       "      <td>3</td>\n",
       "      <td>29</td>\n",
       "      <td>f</td>\n",
       "      <td>9</td>\n",
       "      <td>22:45</td>\n",
       "      <td>06:45</td>\n",
       "      <td>9000</td>\n",
       "      <td>2700</td>\n",
       "      <td>high</td>\n",
       "      <td>healthy</td>\n",
       "      <td>no</td>\n",
       "      <td>no</td>\n",
       "    </tr>\n",
       "    <tr>\n",
       "      <th>3</th>\n",
       "      <td>4</td>\n",
       "      <td>41</td>\n",
       "      <td>m</td>\n",
       "      <td>5</td>\n",
       "      <td>01:00</td>\n",
       "      <td>06:30</td>\n",
       "      <td>4000</td>\n",
       "      <td>2100</td>\n",
       "      <td>low</td>\n",
       "      <td>unhealthy</td>\n",
       "      <td>yes</td>\n",
       "      <td>no</td>\n",
       "    </tr>\n",
       "    <tr>\n",
       "      <th>4</th>\n",
       "      <td>5</td>\n",
       "      <td>22</td>\n",
       "      <td>f</td>\n",
       "      <td>8</td>\n",
       "      <td>23:30</td>\n",
       "      <td>07:00</td>\n",
       "      <td>10000</td>\n",
       "      <td>2800</td>\n",
       "      <td>high</td>\n",
       "      <td>medium</td>\n",
       "      <td>no</td>\n",
       "      <td>no</td>\n",
       "    </tr>\n",
       "  </tbody>\n",
       "</table>\n",
       "</div>"
      ],
      "text/plain": [
       "   User ID  Age Gender  Sleep Quality Bedtime Wake-up Time  Daily Steps  \\\n",
       "0        1   25      f              8   23:00        06:30         8000   \n",
       "1        2   34      m              7   00:30        07:00         5000   \n",
       "2        3   29      f              9   22:45        06:45         9000   \n",
       "3        4   41      m              5   01:00        06:30         4000   \n",
       "4        5   22      f              8   23:30        07:00        10000   \n",
       "\n",
       "   Calories Burned Physical Activity Level Dietary Habits Sleep Disorders  \\\n",
       "0             2500                  medium        healthy              no   \n",
       "1             2200                     low      unhealthy             yes   \n",
       "2             2700                    high        healthy              no   \n",
       "3             2100                     low      unhealthy             yes   \n",
       "4             2800                    high         medium              no   \n",
       "\n",
       "  Medication Usage  \n",
       "0               no  \n",
       "1              yes  \n",
       "2               no  \n",
       "3               no  \n",
       "4               no  "
      ]
     },
     "execution_count": 83,
     "metadata": {},
     "output_type": "execute_result"
    }
   ],
   "source": [
    "df1.loc[0:4]"
   ]
  },
  {
   "cell_type": "markdown",
   "id": "57fab811-8e9c-4731-8372-5cd401f4ab19",
   "metadata": {},
   "source": [
    "### 6. Sorting and Ranking\n",
    "1. Sort the dataset by specific columns using sort_values\n",
    "2. Rank columns using rank() to assign relative ranks to data entries within a column."
   ]
  },
  {
   "cell_type": "markdown",
   "id": "0f1efbbb-7e22-4ca2-9aa9-1e7c25466ec4",
   "metadata": {},
   "source": [
    "**Sorting by Age**- This sorts the rows of the DataFrame based on the values in the 'Age' column, arranging them in ascending order by default.\n",
    "This is useful because it allows users to analyze sleep statistics across different age groups, making it easier to identify trends \n",
    "or patterns related to age, such as how sleep quality or calories burned changes as people get older. Sorting by age can provide clear\n",
    "insights into age-related health and sleep behaviors for researchers or readers."
   ]
  },
  {
   "cell_type": "code",
   "execution_count": 85,
   "id": "589bad1e-81fa-482a-b71c-4a9ff4c3257d",
   "metadata": {},
   "outputs": [
    {
     "name": "stdout",
     "output_type": "stream",
     "text": [
      "    User ID  Age Gender  Sleep Quality Bedtime Wake-up Time  Daily Steps  \\\n",
      "4         5   22      f              8   23:30        07:00        10000   \n",
      "50       51   23      f              9   22:15        06:45         9500   \n",
      "90       91   23      f              9   22:15        06:45         9500   \n",
      "11       12   23      m              9   22:00        06:00        11000   \n",
      "66       67   24      f              9   22:15        06:45         9500   \n",
      "..      ...  ...    ...            ...     ...          ...          ...   \n",
      "93       94   50      m              5   01:15        07:00         4000   \n",
      "73       74   50      m              4   01:30        07:00         3000   \n",
      "85       86   50      m              5   01:15        07:00         4000   \n",
      "59       60   50      m              6   00:30        07:00         5000   \n",
      "37       38   50      m              5   01:30        06:00         3500   \n",
      "\n",
      "    Calories Burned Physical Activity Level Dietary Habits Sleep Disorders  \\\n",
      "4              2800                    high         medium              no   \n",
      "50             2700                    high        healthy              no   \n",
      "90             2700                    high        healthy              no   \n",
      "11             2900                    high        healthy              no   \n",
      "66             2700                    high        healthy              no   \n",
      "..              ...                     ...            ...             ...   \n",
      "93             2100                     low      unhealthy             yes   \n",
      "73             2000                     low      unhealthy             yes   \n",
      "85             2100                     low      unhealthy             yes   \n",
      "59             2200                  medium      unhealthy              no   \n",
      "37             2100                     low      unhealthy             yes   \n",
      "\n",
      "   Medication Usage  \n",
      "4                no  \n",
      "50               no  \n",
      "90               no  \n",
      "11               no  \n",
      "66               no  \n",
      "..              ...  \n",
      "93               no  \n",
      "73              yes  \n",
      "85               no  \n",
      "59               no  \n",
      "37              yes  \n",
      "\n",
      "[100 rows x 12 columns]\n"
     ]
    }
   ],
   "source": [
    "df1_sorted = df1.sort_values(by='Age')\n",
    "print(df1_sorted)"
   ]
  },
  {
   "cell_type": "markdown",
   "id": "857f5d36-614d-46fe-a83b-fd9beed720a6",
   "metadata": {},
   "source": [
    "**Sorting index in descending order**- This sorts the rows of the DataFrame in descending order based on its index. This can be valuable for us when reviewing the data in reverse chronological order or prioritizing higher-indexed entries, which might represent more recent or important data in some contexts. Sorting in reverse order helps us gain insight into trends or changes by observing the latest entries first."
   ]
  },
  {
   "cell_type": "code",
   "execution_count": 83,
   "id": "e6ce783c-64d6-4493-bd78-822f7a5271b1",
   "metadata": {},
   "outputs": [
    {
     "name": "stdout",
     "output_type": "stream",
     "text": [
      "    User ID  Age Gender  Sleep Quality Bedtime Wake-up Time  Daily Steps  \\\n",
      "99      100   41      m              6   00:30        07:00         5000   \n",
      "98       99   25      f              9   22:15        06:45         9500   \n",
      "97       98   46      m              4   01:30        07:00         3000   \n",
      "96       97   33      f              8   23:15        06:15         8500   \n",
      "95       96   43      m              7   00:45        07:15         6500   \n",
      "..      ...  ...    ...            ...     ...          ...          ...   \n",
      "4         5   22      f              8   23:30        07:00        10000   \n",
      "3         4   41      m              5   01:00        06:30         4000   \n",
      "2         3   29      f              9   22:45        06:45         9000   \n",
      "1         2   34      m              7   00:30        07:00         5000   \n",
      "0         1   25      f              8   23:00        06:30         8000   \n",
      "\n",
      "    Calories Burned Physical Activity Level Dietary Habits Sleep Disorders  \\\n",
      "99             2200                  medium      unhealthy              no   \n",
      "98             2700                    high        healthy              no   \n",
      "97             2000                     low      unhealthy             yes   \n",
      "96             2600                    high         medium              no   \n",
      "95             2400                  medium         medium              no   \n",
      "..              ...                     ...            ...             ...   \n",
      "4              2800                    high         medium              no   \n",
      "3              2100                     low      unhealthy             yes   \n",
      "2              2700                    high        healthy              no   \n",
      "1              2200                     low      unhealthy             yes   \n",
      "0              2500                  medium        healthy              no   \n",
      "\n",
      "   Medication Usage  \n",
      "99               no  \n",
      "98               no  \n",
      "97              yes  \n",
      "96               no  \n",
      "95               no  \n",
      "..              ...  \n",
      "4                no  \n",
      "3                no  \n",
      "2                no  \n",
      "1               yes  \n",
      "0                no  \n",
      "\n",
      "[100 rows x 12 columns]\n"
     ]
    }
   ],
   "source": [
    "df1_sorted = df1.sort_index(ascending=False)\n",
    "print(df1_sorted)"
   ]
  },
  {
   "cell_type": "markdown",
   "id": "3e100d1d-12df-44c5-8a56-7424b6555f7f",
   "metadata": {},
   "source": [
    "**Ranking daily steps in descending order**- This assigns a ranking to each entry in the \"Daily Steps\" column of the dataframe, with the highest\n",
    "value receiving rank 1. This method is useful for identifying and comparing individuals with the most steps taken per day. Ranking this way helps \n",
    "us easily see who is most active and gain insights into trends in physical activity, allowing for better health and sleep pattern analysis."
   ]
  },
  {
   "cell_type": "code",
   "execution_count": 100,
   "id": "f8e5bc75-51ce-416b-836e-39cbf23c7279",
   "metadata": {},
   "outputs": [
    {
     "name": "stdout",
     "output_type": "stream",
     "text": [
      "0     49.0\n",
      "1     70.0\n",
      "2     25.0\n",
      "3     80.0\n",
      "4      7.0\n",
      "      ... \n",
      "95    54.5\n",
      "96    39.5\n",
      "97    94.5\n",
      "98    14.5\n",
      "99    70.0\n",
      "Name: Daily Steps, Length: 100, dtype: float64\n"
     ]
    }
   ],
   "source": [
    "df1_ranked = df1['Daily Steps'].rank(ascending = False)\n",
    "print(df1_ranked)"
   ]
  },
  {
   "cell_type": "markdown",
   "id": "faacb259-acd1-42dd-a47e-2921f6f6a2c2",
   "metadata": {},
   "source": [
    "**Ranking index in descending order** - This ranks the values in each column of the dataframe in descending order, assigning the highest\n",
    "value a rank of 1. This is useful for quickly identifying the top performers or highest values in a dataset, such as determining which health\n",
    "or sleep statistics are the most significant. It provides readers with a clear way to prioritize and compare data points, making the analysis\n",
    "more accessible."
   ]
  },
  {
   "cell_type": "code",
   "execution_count": 97,
   "id": "7765b656-53ef-4fe4-9cc3-14e8b4fa13f5",
   "metadata": {},
   "outputs": [
    {
     "name": "stdout",
     "output_type": "stream",
     "text": [
      "    User ID    Age  Gender  Sleep Quality  Bedtime  Wake-up Time  Daily Steps  \\\n",
      "0     100.0   92.5    75.5           38.0     21.0          76.5         49.0   \n",
      "1      99.0   53.0    25.5           56.5     91.0          44.0         70.0   \n",
      "2      98.0   73.0    75.5           13.0     27.5          67.5         25.0   \n",
      "3      97.0   33.5    25.5           82.0     72.5          76.5         80.0   \n",
      "4      96.0  100.0    75.5           38.0      4.0          44.0          7.0   \n",
      "..      ...    ...     ...            ...      ...           ...          ...   \n",
      "95      5.0   28.5    25.5           56.5     80.5          20.0         54.5   \n",
      "96      4.0   56.0    75.5           38.0     11.5          86.0         39.5   \n",
      "97      3.0   18.0    25.5           94.5     56.0          44.0         94.5   \n",
      "98      2.0   92.5    75.5           13.0     42.5          67.5         14.5   \n",
      "99      1.0   33.5    25.5           69.0     91.0          44.0         70.0   \n",
      "\n",
      "    Calories Burned  Physical Activity Level  Dietary Habits  Sleep Disorders  \\\n",
      "0              47.0                     19.5            86.0             63.5   \n",
      "1              70.0                     51.5            21.0             13.5   \n",
      "2              22.0                     82.5            86.0             63.5   \n",
      "3              82.0                     51.5            21.0             13.5   \n",
      "4               6.0                     82.5            56.5             63.5   \n",
      "..              ...                      ...             ...              ...   \n",
      "95             54.5                     19.5            56.5             63.5   \n",
      "96             35.5                     82.5            56.5             63.5   \n",
      "97             94.5                     51.5            21.0             13.5   \n",
      "98             22.0                     82.5            86.0             63.5   \n",
      "99             70.0                     19.5            21.0             63.5   \n",
      "\n",
      "    Medication Usage  \n",
      "0               60.5  \n",
      "1               10.5  \n",
      "2               60.5  \n",
      "3               60.5  \n",
      "4               60.5  \n",
      "..               ...  \n",
      "95              60.5  \n",
      "96              60.5  \n",
      "97              10.5  \n",
      "98              60.5  \n",
      "99              60.5  \n",
      "\n",
      "[100 rows x 12 columns]\n"
     ]
    }
   ],
   "source": [
    "ranked_desc_df1 = df1.rank(ascending=False)\n",
    "print(ranked_desc_df1)"
   ]
  }
 ],
 "metadata": {
  "kernelspec": {
   "display_name": "Python 3 (ipykernel)",
   "language": "python",
   "name": "python3"
  },
  "language_info": {
   "codemirror_mode": {
    "name": "ipython",
    "version": 3
   },
   "file_extension": ".py",
   "mimetype": "text/x-python",
   "name": "python",
   "nbconvert_exporter": "python",
   "pygments_lexer": "ipython3",
   "version": "3.12.4"
  }
 },
 "nbformat": 4,
 "nbformat_minor": 5
}
