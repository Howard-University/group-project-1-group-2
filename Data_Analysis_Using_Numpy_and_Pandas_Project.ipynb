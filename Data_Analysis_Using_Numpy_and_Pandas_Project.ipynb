{
 "cells": [
  {
   "cell_type": "code",
   "execution_count": 1,
   "id": "5bf76c91-7e0f-4c8e-8c1d-306c47a311d1",
   "metadata": {},
   "outputs": [],
   "source": [
    "#must import pandas and numpy\n",
    "import pandas as pd\n",
    "import numpy as np"
   ]
  },
  {
   "cell_type": "code",
   "execution_count": 2,
   "id": "7aae57d8-e780-4ddb-bcaa-2c6898958494",
   "metadata": {},
   "outputs": [],
   "source": [
    "df=pd.read_csv(\"Health_Sleep_Statistics.csv\")"
   ]
  },
  {
   "cell_type": "code",
   "execution_count": 3,
   "id": "60f9fb3d-b18b-4e01-aa25-9fd92563e510",
   "metadata": {},
   "outputs": [
    {
     "name": "stdout",
     "output_type": "stream",
     "text": [
      "   User ID  Age Gender  Sleep Quality Bedtime Wake-up Time  Daily Steps  \\\n",
      "0        1   25      f              8   23:00        06:30         8000   \n",
      "1        2   34      m              7   00:30        07:00         5000   \n",
      "2        3   29      f              9   22:45        06:45         9000   \n",
      "3        4   41      m              5   01:00        06:30         4000   \n",
      "4        5   22      f              8   23:30        07:00        10000   \n",
      "\n",
      "   Calories Burned Physical Activity Level Dietary Habits Sleep Disorders  \\\n",
      "0             2500                  medium        healthy              no   \n",
      "1             2200                     low      unhealthy             yes   \n",
      "2             2700                    high        healthy              no   \n",
      "3             2100                     low      unhealthy             yes   \n",
      "4             2800                    high         medium              no   \n",
      "\n",
      "  Medication Usage  \n",
      "0               no  \n",
      "1              yes  \n",
      "2               no  \n",
      "3               no  \n",
      "4               no  \n"
     ]
    }
   ],
   "source": [
    "print(df.head())"
   ]
  },
  {
   "cell_type": "code",
   "execution_count": 6,
   "id": "a84bc211-6b81-4f35-8a4c-93d53154adce",
   "metadata": {},
   "outputs": [
    {
     "name": "stdout",
     "output_type": "stream",
     "text": [
      "<class 'pandas.core.frame.DataFrame'>\n",
      "RangeIndex: 100 entries, 0 to 99\n",
      "Data columns (total 12 columns):\n",
      " #   Column                   Non-Null Count  Dtype \n",
      "---  ------                   --------------  ----- \n",
      " 0   User ID                  100 non-null    int64 \n",
      " 1   Age                      100 non-null    int64 \n",
      " 2   Gender                   100 non-null    object\n",
      " 3   Sleep Quality            100 non-null    int64 \n",
      " 4   Bedtime                  100 non-null    object\n",
      " 5   Wake-up Time             100 non-null    object\n",
      " 6   Daily Steps              100 non-null    int64 \n",
      " 7   Calories Burned          100 non-null    int64 \n",
      " 8   Physical Activity Level  100 non-null    object\n",
      " 9   Dietary Habits           100 non-null    object\n",
      " 10  Sleep Disorders          100 non-null    object\n",
      " 11  Medication Usage         100 non-null    object\n",
      "dtypes: int64(5), object(7)\n",
      "memory usage: 9.5+ KB\n"
     ]
    }
   ],
   "source": [
    "#I need to know what each feature is called and which are intergers to convert into arrays\n",
    "df.info()"
   ]
  },
  {
   "cell_type": "code",
   "execution_count": 25,
   "id": "fbe27802-389b-494e-87b3-9d6f1ec0140a",
   "metadata": {},
   "outputs": [
    {
     "name": "stdout",
     "output_type": "stream",
     "text": [
      "[25 34 29 41 22 37 30 45 27 32 50 23 36 48 28 31 26 39 33 42 29 35 40 47\n",
      " 32 44 27 38 31 49 24 45 37 46 28 40 35 50 26 41 30 44 34 48 33 47 28 39\n",
      " 32 46 23 38 27 44 29 36 30 45 25 50 28 47 26 39 31 43 24 38 28 48 32 41\n",
      " 29 50 26 44 30 47 25 49 31 42 27 45 34 50 28 39 30 47 23 36 29 50 27 43\n",
      " 33 46 25 41]\n",
      "[2500 2200 2700 2100 2800 2300 2600 2000 2750 2400 2100 2900 2400 2000\n",
      " 2700 2300 2500 2100 2800 2400 2600 2100 2750 2300 2600 2000 2800 2400\n",
      " 2500 2100 2900 2200 2600 2000 2750 2300 2500 2100 2900 2200 2600 2000\n",
      " 2750 2300 2500 2100 2900 2200 2600 2000 2700 2200 2600 2100 2750 2400\n",
      " 2600 2000 2700 2200 2600 2100 2750 2400 2600 2000 2700 2200 2600 2100\n",
      " 2750 2400 2600 2000 2700 2200 2600 2100 2750 2400 2600 2000 2700 2200\n",
      " 2600 2100 2750 2400 2600 2000 2700 2200 2600 2100 2750 2400 2600 2000\n",
      " 2700 2200]\n"
     ]
    }
   ],
   "source": [
    "A=np.array(df[\"Age\"])\n",
    "B=np.array(df[\"Calories Burned\"])\n",
    "print(A)\n",
    "print(B)"
   ]
  },
  {
   "cell_type": "code",
   "execution_count": 17,
   "id": "4f52b849-6424-4f20-99a2-40279f1bae85",
   "metadata": {},
   "outputs": [
    {
     "name": "stdout",
     "output_type": "stream",
     "text": [
      "The median age is: 35.0\n",
      "\n",
      "The median calories burned is: 2400.0\n"
     ]
    }
   ],
   "source": [
    "print(\"The median age is:\", np.median(A))\n",
    "\n",
    "print(\"\\nThe median calories burned is:\", np.median(B))"
   ]
  },
  {
   "cell_type": "code",
   "execution_count": 18,
   "id": "395ed05a-f89e-43a9-aeb8-f8407b90cb1f",
   "metadata": {},
   "outputs": [
    {
     "name": "stdout",
     "output_type": "stream",
     "text": [
      "The mean age is: 36.01\n",
      "\n",
      "The mean calories burned is: 2421.0\n"
     ]
    }
   ],
   "source": [
    "print(\"The mean age is:\", np.mean(A))\n",
    "\n",
    "print(\"\\nThe mean calories burned is:\", np.mean(B))"
   ]
  },
  {
   "cell_type": "code",
   "execution_count": 19,
   "id": "2cb65fcf-14b3-448f-834e-cf6ae8fd7a2b",
   "metadata": {},
   "outputs": [
    {
     "name": "stdout",
     "output_type": "stream",
     "text": [
      "The standard deviation age is: 8.412484769674178\n",
      "\n",
      "The standard deviation calories burned is: 279.6587205863604\n"
     ]
    }
   ],
   "source": [
    "print(\"The standard deviation age is:\", np.std(A))\n",
    "\n",
    "print(\"\\nThe standard deviation calories burned is:\", np.std(B))"
   ]
  },
  {
   "cell_type": "code",
   "execution_count": 26,
   "id": "c7e83f57-2096-4576-abd0-1ae0899ee270",
   "metadata": {},
   "outputs": [
    {
     "name": "stdout",
     "output_type": "stream",
     "text": [
      "Elementwise Multiplication Example: [ 62500  74800  78300  86100  61600  85100  78000  90000  74250  76800\n",
      " 105000  66700  86400  96000  75600  71300  65000  81900  92400 100800\n",
      "  75400  73500 110000 108100  83200  88000  75600  91200  77500 102900\n",
      "  69600  99000  96200  92000  77000  92000  87500 105000  75400  90200\n",
      "  78000  88000  93500 110400  82500  98700  81200  85800  83200  92000\n",
      "  62100  83600  70200  92400  79750  86400  78000  90000  67500 110000\n",
      "  72800  98700  71500  93600  80600  86000  64800  83600  72800 100800\n",
      "  88000  98400  75400 100000  70200  96800  78000  98700  68750 117600\n",
      "  80600  84000  72900  99000  88400 105000  77000  93600  78000  94000\n",
      "  62100  79200  75400 105000  74250 103200  85800  92000  67500  90200]\n",
      "Subrtaction Example: [-2475 -2166 -2671 -2059 -2778 -2263 -2570 -1955 -2723 -2368 -2050 -2877\n",
      " -2364 -1952 -2672 -2269 -2474 -2061 -2767 -2358 -2571 -2065 -2710 -2253\n",
      " -2568 -1956 -2773 -2362 -2469 -2051 -2876 -2155 -2563 -1954 -2722 -2260\n",
      " -2465 -2050 -2874 -2159 -2570 -1956 -2716 -2252 -2467 -2053 -2872 -2161\n",
      " -2568 -1954 -2677 -2162 -2573 -2056 -2721 -2364 -2570 -1955 -2675 -2150\n",
      " -2572 -2053 -2724 -2361 -2569 -1957 -2676 -2162 -2572 -2052 -2718 -2359\n",
      " -2571 -1950 -2674 -2156 -2570 -2053 -2725 -2351 -2569 -1958 -2673 -2155\n",
      " -2566 -2050 -2722 -2361 -2570 -1953 -2677 -2164 -2571 -2050 -2723 -2357\n",
      " -2567 -1954 -2675 -2159]\n",
      "Addition Example: [2525 2234 2729 2141 2822 2337 2630 2045 2777 2432 2150 2923 2436 2048\n",
      " 2728 2331 2526 2139 2833 2442 2629 2135 2790 2347 2632 2044 2827 2438\n",
      " 2531 2149 2924 2245 2637 2046 2778 2340 2535 2150 2926 2241 2630 2044\n",
      " 2784 2348 2533 2147 2928 2239 2632 2046 2723 2238 2627 2144 2779 2436\n",
      " 2630 2045 2725 2250 2628 2147 2776 2439 2631 2043 2724 2238 2628 2148\n",
      " 2782 2441 2629 2050 2726 2244 2630 2147 2775 2449 2631 2042 2727 2245\n",
      " 2634 2150 2778 2439 2630 2047 2723 2236 2629 2150 2777 2443 2633 2046\n",
      " 2725 2241]\n"
     ]
    }
   ],
   "source": [
    "print(\"Elementwise Multiplication Example:\", A*B)\n",
    "print(\"Subrtaction Example:\", A-B)\n",
    "print(\"Addition Example:\", A+B)"
   ]
  },
  {
   "cell_type": "code",
   "execution_count": null,
   "id": "a2f7b4e8-969e-49fb-a1a6-f5e32b809354",
   "metadata": {},
   "outputs": [],
   "source": []
  }
 ],
 "metadata": {
  "kernelspec": {
   "display_name": "Python 3 (ipykernel)",
   "language": "python",
   "name": "python3"
  },
  "language_info": {
   "codemirror_mode": {
    "name": "ipython",
    "version": 3
   },
   "file_extension": ".py",
   "mimetype": "text/x-python",
   "name": "python",
   "nbconvert_exporter": "python",
   "pygments_lexer": "ipython3",
   "version": "3.12.4"
  }
 },
 "nbformat": 4,
 "nbformat_minor": 5
}
